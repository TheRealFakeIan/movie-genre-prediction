{
 "cells": [
  {
   "cell_type": "markdown",
   "metadata": {},
   "source": [
    "# Title: Movie Genre Predictor Analysis \n",
    "\n",
    "## Subject : Romance or Thriller? Movie Genre Prediction from Audio, Visual, and Text Features!\n",
    "\n",
    "## Course Code : COMP 90049\n"
   ]
  },
  {
   "cell_type": "markdown",
   "metadata": {},
   "source": [
    "### Import Libraries"
   ]
  },
  {
   "cell_type": "code",
   "execution_count": 1,
   "metadata": {},
   "outputs": [],
   "source": [
    "import pandas as pd\n",
    "from sklearn.dummy import DummyClassifier\n",
    "import numpy as np\n",
    "import matplotlib.pyplot as plt"
   ]
  },
  {
   "cell_type": "markdown",
   "metadata": {},
   "source": [
    "### Prepping raw data"
   ]
  },
  {
   "cell_type": "code",
   "execution_count": 2,
   "metadata": {},
   "outputs": [],
   "source": [
    "train_features = pd.read_csv(r\"C:\\Users\\cyeeh\\OneDrive\\Masters\\2020 Sem 1\\Intro to Machine Learning\\ML Assignment 2\\NEW_data\\data\\train_features.tsv\",sep='\\t')\n",
    "X_valid = pd.read_csv(r\"C:\\Users\\cyeeh\\OneDrive\\Masters\\2020 Sem 1\\Intro to Machine Learning\\ML Assignment 2\\NEW_data\\data\\valid_features.tsv\",sep='\\t')\n",
    "\n",
    "train_labels = pd.read_csv(r\"C:\\Users\\cyeeh\\OneDrive\\Masters\\2020 Sem 1\\Intro to Machine Learning\\ML Assignment 2\\NEW_data\\data\\train_labels.tsv\",sep=\"\\t\")\n",
    "y_valid = pd.read_csv(r\"C:\\Users\\cyeeh\\OneDrive\\Masters\\2020 Sem 1\\Intro to Machine Learning\\ML Assignment 2\\NEW_data\\data\\valid_labels.tsv\",sep=\"\\t\")\n",
    "\n",
    "valid_features = X_valid\n",
    "X_train = train_features\n",
    "y_train = train_labels\n",
    "\n",
    "y_train_genre_only = y_train['genres'].values\n",
    "y_valid_genre_only = y_valid['genres'].values"
   ]
  },
  {
   "cell_type": "markdown",
   "metadata": {},
   "source": [
    "### Determine the distribution of target values in our training set for analysis"
   ]
  },
  {
   "cell_type": "code",
   "execution_count": 3,
   "metadata": {},
   "outputs": [
    {
     "data": {
      "text/plain": [
       "<BarContainer object of 18 artists>"
      ]
     },
     "execution_count": 3,
     "metadata": {},
     "output_type": "execute_result"
    },
    {
     "data": {
      "image/png": "[encoded data removed]",
      "text/plain": [
       "<Figure size 1296x360 with 1 Axes>"
      ]
     },
     "metadata": {
      "needs_background": "light"
     },
     "output_type": "display_data"
    }
   ],
   "source": [
    "\n",
    "ellen_de_genres = {}\n",
    "for genre in y_train_genre_only:\n",
    "    if genre not in ellen_de_genres:\n",
    "        ellen_de_genres[genre] = 1\n",
    "    else:\n",
    "        ellen_de_genres[genre] += 1\n",
    "        \n",
    "ellen_de_genres = {k: v for k, v in sorted(ellen_de_genres.items(), key=lambda item: item[1], reverse = True)}\n",
    "ellen_de_genres = {k: v / total for total in (sum(ellen_de_genres.values()),) for k, v in ellen_de_genres.items()}\n",
    "\n",
    "\n",
    "plt.figure(figsize = (18,5))\n",
    "plt.bar(ellen_de_genres.keys(), ellen_de_genres.values(), width = .5, color = 'g')"
   ]
  },
  {
   "cell_type": "markdown",
   "metadata": {},
   "source": [
    "### Baseline Model : Zero-R "
   ]
  },
  {
   "cell_type": "code",
   "execution_count": 4,
   "metadata": {
    "scrolled": false
   },
   "outputs": [
    {
     "name": "stdout",
     "output_type": "stream",
     "text": [
      "Zero R baseline accuracies\n",
      "--------------------------\n",
      "Baseline Training accuracy: 0.15095419847328245\n",
      "Baseline Validation accuracy: 0.1705685618729097\n"
     ]
    }
   ],
   "source": [
    "# Implement a baseline model - Zero-R\n",
    "#most frequent genre for the true training label is Romance = 791\n",
    "# Expect a training accuracy of 791/5240 = 15%\n",
    "print('Zero R baseline accuracies')\n",
    "print('--------------------------')\n",
    "\n",
    "dummy_clf = DummyClassifier(strategy=\"most_frequent\")\n",
    "dummy_clf.fit(X_train,y_train_genre_only)\n",
    "predicted_train_genre = dummy_clf.predict(X_train)\n",
    "print('Baseline Training accuracy:',dummy_clf.score(X_train,y_train_genre_only))\n",
    "\n",
    "#Expect a validation accuracy of 17%\n",
    "dummy_clf.fit(X_valid,y_valid_genre_only)\n",
    "predicted_valid_genre = dummy_clf.predict(X_valid)\n",
    "print('Baseline Validation accuracy:',dummy_clf.score(X_valid,y_valid_genre_only))\n",
    "\n",
    "\n"
   ]
  },
  {
   "cell_type": "markdown",
   "metadata": {},
   "source": [
    "### Feature Selection Functions with Model Training Functions for Textual Features only"
   ]
  },
  {
   "cell_type": "code",
   "execution_count": 5,
   "metadata": {},
   "outputs": [],
   "source": [
    "def NBmodel_with_countvectorizer(X_train_MNB, X_valid_MNB, y_train_genre_only, y_valid_genre_only):\n",
    "    from sklearn.feature_extraction.text import CountVectorizer, TfidfVectorizer\n",
    "    v = CountVectorizer()\n",
    "    \n",
    "    train_tag_column = X_train_MNB.pop('tag')\n",
    "    train_tag_column = train_tag_column.map(lambda x:x.replace(',',\" \"))\n",
    "    v.fit(train_tag_column)\n",
    "    transformed_tag_train = v.transform(train_tag_column)\n",
    "    df1 = pd.DataFrame(transformed_tag_train.toarray(), columns = v.get_feature_names())\n",
    "    X_train_MNB = pd.concat([X_train_MNB, df1], axis = 1)\n",
    "\n",
    "    train_title_column = X_train_MNB.pop('title')\n",
    "    v.fit(train_title_column.values.astype('U'))\n",
    "    transformed_title_train = v.transform(train_title_column.values.astype('U'))\n",
    "    df1 = pd.DataFrame(transformed_title_train.toarray(), columns = v.get_feature_names())\n",
    "    X_train_MNB = pd.concat([X_train_MNB, df1], axis = 1)\n",
    "\n",
    "    valid_tag_column = X_valid_MNB.pop('tag')\n",
    "    valid_tag_column = valid_tag_column.map(lambda x:x.replace(',',\" \"))\n",
    "    v.fit(train_tag_column)\n",
    "    transformed_tag_valid = v.transform(valid_tag_column)\n",
    "    df1 = pd.DataFrame(transformed_tag_valid.toarray(), columns = v.get_feature_names())\n",
    "    X_valid_MNB = pd.concat([X_valid_MNB, df1], axis = 1)\n",
    "\n",
    "    valid_title_column = X_valid_MNB.pop('title')\n",
    "    v.fit(train_title_column.values.astype('U'))\n",
    "    transformed_title_valid = v.transform(valid_title_column.values.astype('U'))\n",
    "    df1 = pd.DataFrame(transformed_title_valid.toarray(), columns = v.get_feature_names())\n",
    "    X_valid_MNB = pd.concat([X_valid_MNB, df1], axis = 1)\n",
    "\n",
    "    from sklearn.naive_bayes import MultinomialNB\n",
    "    from sklearn import metrics\n",
    "    X_train_NB = X_train_MNB\n",
    "    X_valid_NB = X_valid_MNB\n",
    "    y_train_genre_only_NB = y_train_genre_only\n",
    "    y_valid_genre_only_NB = y_valid_genre_only\n",
    "    mlt = MultinomialNB()\n",
    "    mlt.fit(X_train_NB, y_train_genre_only_NB)\n",
    "    y_valid_pred_genre_NB = mlt.predict(X_valid_NB)\n",
    "    y_train_pred_genre_NB = mlt.predict(X_train_NB)\n",
    "    print(\"Performing NB without audio and visual based features under CountVectorizer\")\n",
    "    print(\"---------------------------------------------------------------------------\")\n",
    "    print(\"Validation Accuracy for MNB:\",metrics.accuracy_score(y_valid_genre_only_NB, y_valid_pred_genre_NB))\n",
    "    print(\"Training Accuracy for MNB:\",metrics.accuracy_score(y_train_genre_only_NB, y_train_pred_genre_NB))\n",
    "    return "
   ]
  },
  {
   "cell_type": "code",
   "execution_count": 6,
   "metadata": {},
   "outputs": [],
   "source": [
    "def NBmodel_with_tfidfvectorizer(X_train_MNB, X_valid_MNB, y_train_genre_only, y_valid_genre_only):\n",
    "    from sklearn.feature_extraction.text import CountVectorizer, TfidfVectorizer\n",
    "    v = TfidfVectorizer()\n",
    "    \n",
    "    train_tag_column = X_train_MNB.pop('tag')\n",
    "    train_tag_column = train_tag_column.map(lambda x:x.replace(',',\" \"))\n",
    "    v.fit(train_tag_column)\n",
    "    transformed_tag_train = v.transform(train_tag_column)\n",
    "    df1 = pd.DataFrame(transformed_tag_train.toarray(), columns = v.get_feature_names())\n",
    "    X_train_MNB = pd.concat([X_train_MNB, df1], axis = 1)\n",
    "\n",
    "    train_title_column = X_train_MNB.pop('title')\n",
    "    v.fit(train_title_column.values.astype('U'))\n",
    "    transformed_title_train = v.transform(train_title_column.values.astype('U'))\n",
    "    df1 = pd.DataFrame(transformed_title_train.toarray(), columns = v.get_feature_names())\n",
    "    X_train_MNB = pd.concat([X_train_MNB, df1], axis = 1)\n",
    "\n",
    "    valid_tag_column = X_valid_MNB.pop('tag')\n",
    "    valid_tag_column = valid_tag_column.map(lambda x:x.replace(',',\" \"))\n",
    "    v.fit(train_tag_column)\n",
    "    transformed_tag_valid = v.transform(valid_tag_column)\n",
    "    df1 = pd.DataFrame(transformed_tag_valid.toarray(), columns = v.get_feature_names())\n",
    "    X_valid_MNB = pd.concat([X_valid_MNB, df1], axis = 1)\n",
    "\n",
    "    valid_title_column = X_valid_MNB.pop('title')\n",
    "    v.fit(train_title_column.values.astype('U'))\n",
    "    transformed_title_valid = v.transform(valid_title_column.values.astype('U'))\n",
    "    df1 = pd.DataFrame(transformed_title_valid.toarray(), columns = v.get_feature_names())\n",
    "    X_valid_MNB = pd.concat([X_valid_MNB, df1], axis = 1)\n",
    "\n",
    "    from sklearn.naive_bayes import MultinomialNB\n",
    "    from sklearn import metrics\n",
    "    X_train_NB = X_train_MNB\n",
    "    X_valid_NB = X_valid_MNB\n",
    "    y_train_genre_only_NB = y_train_genre_only\n",
    "    y_valid_genre_only_NB = y_valid_genre_only\n",
    "    mlt = MultinomialNB()\n",
    "    mlt.fit(X_train_NB, y_train_genre_only_NB)\n",
    "    y_valid_pred_genre_NB = mlt.predict(X_valid_NB)\n",
    "    y_train_pred_genre_NB = mlt.predict(X_train_NB)\n",
    "    print(\"Performing NB without audio and visual based features under TfidfVectorizer\")\n",
    "    print(\"---------------------------------------------------------------------------\")\n",
    "    print(\"Validation Accuracy for MNB:\",metrics.accuracy_score(y_valid_genre_only_NB, y_valid_pred_genre_NB))\n",
    "    print(\"Training Accuracy for MNB:\",metrics.accuracy_score(y_train_genre_only_NB, y_train_pred_genre_NB))\n",
    "    \n",
    "    from sklearn.metrics import classification_report\n",
    "    report_NB = classification_report(y_valid_genre_only_NB, y_valid_pred_genre_NB)\n",
    "    print('\\n')\n",
    "    print(report_NB)\n",
    "    \n",
    "    return "
   ]
  },
  {
   "cell_type": "code",
   "execution_count": 7,
   "metadata": {},
   "outputs": [],
   "source": [
    "def SLFNmodel_with_countvectorizer(X_train_NN, X_valid_NN, y_train_genre_only_NN, y_valid_genre_only_NN):\n",
    "    from sklearn.feature_extraction.text import CountVectorizer, TfidfVectorizer\n",
    "    v = CountVectorizer()\n",
    "    \n",
    "    train_tag_column = X_train_NN.pop('tag')\n",
    "    train_tag_column = train_tag_column.map(lambda x:x.replace(',',\" \"))\n",
    "    v.fit(train_tag_column)\n",
    "    transformed_tag_train = v.transform(train_tag_column)\n",
    "    df1 = pd.DataFrame(transformed_tag_train.toarray(), columns = v.get_feature_names())\n",
    "    X_train_NN = pd.concat([X_train_NN, df1], axis = 1)\n",
    "\n",
    "    train_title_column = X_train_NN.pop('title')\n",
    "    v.fit(train_title_column.values.astype('U'))\n",
    "    transformed_title_train = v.transform(train_title_column.values.astype('U'))\n",
    "    df1 = pd.DataFrame(transformed_title_train.toarray(), columns = v.get_feature_names())\n",
    "    X_train_NN = pd.concat([X_train_NN, df1], axis = 1)\n",
    "\n",
    "    valid_tag_column = X_valid_NN.pop('tag')\n",
    "    valid_tag_column = valid_tag_column.map(lambda x:x.replace(',',\" \"))\n",
    "    v.fit(train_tag_column)\n",
    "    transformed_tag_valid = v.transform(valid_tag_column)\n",
    "    df1 = pd.DataFrame(transformed_tag_valid.toarray(), columns = v.get_feature_names())\n",
    "    X_valid_NN = pd.concat([X_valid_NN, df1], axis = 1)\n",
    "\n",
    "    valid_title_column = X_valid_NN.pop('title')\n",
    "    v.fit(train_title_column.values.astype('U'))\n",
    "    transformed_title_valid = v.transform(valid_title_column.values.astype('U'))\n",
    "    df1 = pd.DataFrame(transformed_title_valid.toarray(), columns = v.get_feature_names())\n",
    "    X_valid_NN = pd.concat([X_valid_NN, df1], axis = 1)\n",
    "    \n",
    "    #normalize data using z-score normalization standardscaler\n",
    "    from sklearn.preprocessing import StandardScaler\n",
    "    ss = StandardScaler()\n",
    "    X_train_NN_norma = ss.fit_transform(X_train_NN)\n",
    "    X_valid_NN_norma = ss.transform(X_valid_NN)\n",
    "\n",
    "    import tensorflow.keras as keras\n",
    "    from sklearn.preprocessing import LabelEncoder\n",
    "    import tensorflow as tf\n",
    "\n",
    "    #first integer-encode our data before one hot encoding using keras\n",
    "\n",
    "    label_encoder = LabelEncoder()\n",
    "    y_train_genre_only_NN_int = label_encoder.fit_transform(y_train_genre_only_NN)\n",
    "    y_valid_genre_only_NN_int = label_encoder.transform(y_valid_genre_only_NN)\n",
    "\n",
    "    #set the random seed for numpy and tensorflow to ensure reproduceability\n",
    "\n",
    "    np.random.seed(111)\n",
    "    tf.random.set_seed(111)\n",
    "\n",
    "    #convert our class labels using a one hot encoder\n",
    "    y_train_genre_only_NN_onehot = keras.utils.to_categorical(y_train_genre_only_NN_int)\n",
    "    \n",
    "    #implement our neural network\n",
    "    import math\n",
    "    \n",
    "\n",
    "    #determine the number of nodes in the input layer, output layer and hidden layer\n",
    "    feature_count = X_train_NN_norma.shape[1]\n",
    "    label_count = y_train_genre_only_NN_onehot.shape[1]\n",
    "\n",
    "    #calculate the number of nodes in the hidden layer using the formula below\n",
    "    train_instance_count = X_train_NN_norma.shape[0]\n",
    "    alpha = 2\n",
    "    hidden_node_count = math.floor((feature_count + label_count)/2)  \n",
    "\n",
    "\n",
    "\n",
    "    #initialize model\n",
    "    model = keras.models.Sequential()\n",
    "\n",
    "    #add hidden layer\n",
    "    model.add(keras.layers.Dense(\n",
    "        units = 50,\n",
    "        input_dim = feature_count,\n",
    "        kernel_initializer='glorot_uniform',\n",
    "        bias_initializer='zeros',\n",
    "        activation='sigmoid') \n",
    "    )\n",
    "\n",
    "\n",
    "\n",
    "    # add output layer\n",
    "    model.add(\n",
    "        keras.layers.Dense(\n",
    "            units = label_count,\n",
    "            kernel_initializer='glorot_uniform',\n",
    "            bias_initializer='zeros',\n",
    "            activation='softmax')\n",
    "        )\n",
    "\n",
    "\n",
    "    # define SGD optimizer\n",
    "    sgd_optimizer = keras.optimizers.SGD(\n",
    "        lr=0.001, decay=1e-7, momentum=0.9\n",
    "    )\n",
    "\n",
    "    # compile model\n",
    "    model.compile(\n",
    "        optimizer=sgd_optimizer,\n",
    "        loss='categorical_crossentropy',\n",
    "        metrics = ['accuracy']\n",
    "    )\n",
    "\n",
    "    #train model\n",
    "    history = model.fit(\n",
    "        X_train_NN_norma, y_train_genre_only_NN_onehot,\n",
    "        batch_size=32, epochs=20,\n",
    "        verbose=0, validation_split=0.1\n",
    "    )\n",
    "\n",
    "    y_train_pred_genre_NN_int = model.predict_classes(X_train_NN_norma, verbose=0)\n",
    "    \n",
    "    print(\"Performing NN without audio and visual based features under CountFVectorizer\")\n",
    "    print(\"------------------------------------------------------------------------------\")\n",
    "    #evaluate training accuracy for NN\n",
    "    y_train_pred_genre_NN_int = model.predict_classes(X_train_NN_norma, verbose=0)\n",
    "    #reconvert our integer encoded label into their respective categories\n",
    "    y_train_pred_genre_NN = label_encoder.inverse_transform(y_train_pred_genre_NN_int)\n",
    "    correct_preds = np.sum(y_train_genre_only_NN == y_train_pred_genre_NN, axis=0)\n",
    "    train_acc = correct_preds / y_train_genre_only_NN.shape[0]\n",
    "\n",
    "    print(f'Training accuracy for NN: {(train_acc * 100):.2f}')\n",
    "\n",
    "\n",
    "    #evaluate validation accuracy for NN\n",
    "    y_valid_pred_genre_NN_int = model.predict_classes(X_valid_NN_norma, verbose=0)\n",
    "    y_valid_pred_genre_NN = label_encoder.inverse_transform(y_valid_pred_genre_NN_int)\n",
    "    correct_preds = np.sum(y_valid_genre_only_NN == y_valid_pred_genre_NN, axis=0)\n",
    "    valid_acc = correct_preds / y_valid_genre_only_NN.shape[0]\n",
    "\n",
    "    print(f'Validation accuracy for NN: {(valid_acc * 100):.2f}')\n",
    "    \n",
    "    return"
   ]
  },
  {
   "cell_type": "code",
   "execution_count": 8,
   "metadata": {},
   "outputs": [],
   "source": [
    "def SLFNmodel_with_tfidfvectorizer(X_train_NN, X_valid_NN, y_train_genre_only_NN, y_valid_genre_only_NN):\n",
    "    from sklearn.feature_extraction.text import CountVectorizer, TfidfVectorizer\n",
    "    v = TfidfVectorizer()\n",
    "    \n",
    "    train_tag_column = X_train_NN.pop('tag')\n",
    "    train_tag_column = train_tag_column.map(lambda x:x.replace(',',\" \"))\n",
    "    v.fit(train_tag_column)\n",
    "    transformed_tag_train = v.transform(train_tag_column)\n",
    "    df1 = pd.DataFrame(transformed_tag_train.toarray(), columns = v.get_feature_names())\n",
    "    X_train_NN = pd.concat([X_train_NN, df1], axis = 1)\n",
    "\n",
    "    train_title_column = X_train_NN.pop('title')\n",
    "    v.fit(train_title_column.values.astype('U'))\n",
    "    transformed_title_train = v.transform(train_title_column.values.astype('U'))\n",
    "    df1 = pd.DataFrame(transformed_title_train.toarray(), columns = v.get_feature_names())\n",
    "    X_train_NN = pd.concat([X_train_NN, df1], axis = 1)\n",
    "\n",
    "    valid_tag_column = X_valid_NN.pop('tag')\n",
    "    valid_tag_column = valid_tag_column.map(lambda x:x.replace(',',\" \"))\n",
    "    v.fit(train_tag_column)\n",
    "    transformed_tag_valid = v.transform(valid_tag_column)\n",
    "    df1 = pd.DataFrame(transformed_tag_valid.toarray(), columns = v.get_feature_names())\n",
    "    X_valid_NN = pd.concat([X_valid_NN, df1], axis = 1)\n",
    "\n",
    "    valid_title_column = X_valid_NN.pop('title')\n",
    "    v.fit(train_title_column.values.astype('U'))\n",
    "    transformed_title_valid = v.transform(valid_title_column.values.astype('U'))\n",
    "    df1 = pd.DataFrame(transformed_title_valid.toarray(), columns = v.get_feature_names())\n",
    "    X_valid_NN = pd.concat([X_valid_NN, df1], axis = 1)\n",
    "    \n",
    "    #normalize data using z-score normalization standardscaler\n",
    "    from sklearn.preprocessing import StandardScaler\n",
    "    ss = StandardScaler()\n",
    "    X_train_NN_norma = ss.fit_transform(X_train_NN)\n",
    "    X_valid_NN_norma = ss.transform(X_valid_NN)\n",
    "\n",
    "    import tensorflow.keras as keras\n",
    "    from sklearn.preprocessing import LabelEncoder\n",
    "    import tensorflow as tf\n",
    "\n",
    "    #first integer-encode our data before one hot encoding using keras\n",
    "\n",
    "    label_encoder = LabelEncoder()\n",
    "    y_train_genre_only_NN_int = label_encoder.fit_transform(y_train_genre_only_NN)\n",
    "    y_valid_genre_only_NN_int = label_encoder.transform(y_valid_genre_only_NN)\n",
    "\n",
    "    #set the random seed for numpy and tensorflow to ensure reproduceability\n",
    "\n",
    "    np.random.seed(111)\n",
    "    tf.random.set_seed(111)\n",
    "\n",
    "    #convert our class labels using a one hot encoder\n",
    "    y_train_genre_only_NN_onehot = keras.utils.to_categorical(y_train_genre_only_NN_int)\n",
    "    \n",
    "    #implement our neural network\n",
    "    import math\n",
    "    \n",
    "\n",
    "    #determine the number of nodes in the input layer, output layer and hidden layer\n",
    "    feature_count = X_train_NN_norma.shape[1]\n",
    "    label_count = y_train_genre_only_NN_onehot.shape[1]\n",
    "\n",
    "    #calculate the number of nodes in the hidden layer using the formula below\n",
    "    train_instance_count = X_train_NN_norma.shape[0]\n",
    "    alpha = 2\n",
    "    hidden_node_count = math.floor((feature_count + label_count)/2)  \n",
    "\n",
    "\n",
    "\n",
    "    #initialize model\n",
    "    model = keras.models.Sequential()\n",
    "\n",
    "    #add hidden layer\n",
    "    model.add(keras.layers.Dense(\n",
    "        units = 50,\n",
    "        input_dim = feature_count,\n",
    "        kernel_initializer='glorot_uniform',\n",
    "        bias_initializer='zeros',\n",
    "        activation='sigmoid') \n",
    "    )\n",
    "\n",
    "\n",
    "\n",
    "    # add output layer\n",
    "    model.add(\n",
    "        keras.layers.Dense(\n",
    "            units = label_count,\n",
    "            kernel_initializer='glorot_uniform',\n",
    "            bias_initializer='zeros',\n",
    "            activation='softmax')\n",
    "        )\n",
    "\n",
    "\n",
    "    # define SGD optimizer\n",
    "    sgd_optimizer = keras.optimizers.SGD(\n",
    "        lr=0.001, decay=1e-7, momentum=0.9\n",
    "    )\n",
    "\n",
    "    # compile model\n",
    "    model.compile(\n",
    "        optimizer=sgd_optimizer,\n",
    "        loss='categorical_crossentropy',\n",
    "        metrics = ['accuracy']\n",
    "    )\n",
    "\n",
    "    #train model\n",
    "    history = model.fit(\n",
    "        X_train_NN_norma, y_train_genre_only_NN_onehot,\n",
    "        batch_size=32, epochs=20,\n",
    "        verbose=0, validation_split=0.1\n",
    "    )\n",
    "\n",
    "    y_train_pred_genre_NN_int = model.predict_classes(X_train_NN_norma, verbose=0)\n",
    "    \n",
    "    print(\"Performing NN without audio and visual based features under TfidfVectorizer\")\n",
    "    print(\"------------------------------------------------------------------------------\")\n",
    "    #evaluate training accuracy for NN\n",
    "    y_train_pred_genre_NN_int = model.predict_classes(X_train_NN_norma, verbose=0)\n",
    "    #reconvert our integer encoded label into their respective categories\n",
    "    y_train_pred_genre_NN = label_encoder.inverse_transform(y_train_pred_genre_NN_int)\n",
    "    correct_preds = np.sum(y_train_genre_only_NN == y_train_pred_genre_NN, axis=0)\n",
    "    train_acc = correct_preds / y_train_genre_only_NN.shape[0]\n",
    "\n",
    "    print(f'Training accuracy for NN: {(train_acc * 100):.2f}')\n",
    "\n",
    "\n",
    "    #evaluate validation accuracy for NN\n",
    "    y_valid_pred_genre_NN_int = model.predict_classes(X_valid_NN_norma, verbose=0)\n",
    "    y_valid_pred_genre_NN = label_encoder.inverse_transform(y_valid_pred_genre_NN_int)\n",
    "    correct_preds = np.sum(y_valid_genre_only_NN == y_valid_pred_genre_NN, axis=0)\n",
    "    valid_acc = correct_preds / y_valid_genre_only_NN.shape[0]\n",
    "\n",
    "    print(f'Validation accuracy for NN: {(valid_acc * 100):.2f}')\n",
    "    \n",
    "    from sklearn.metrics import classification_report, precision_recall_fscore_support\n",
    "    report_NN = classification_report(y_valid_genre_only_NN, y_valid_pred_genre_NN)\n",
    "    print('\\n')\n",
    "    print(report_NN)\n",
    "    \n",
    "    return"
   ]
  },
  {
   "cell_type": "code",
   "execution_count": 9,
   "metadata": {},
   "outputs": [],
   "source": [
    "#creating a subdataframe without audio and visual features\n",
    "\n",
    "train_text_features = train_features[['title','tag']]\n",
    "valid_text_features = valid_features[['title','tag']]"
   ]
  },
  {
   "cell_type": "markdown",
   "metadata": {},
   "source": [
    "### Feature selection with Model Training Functions for Numerical features only"
   ]
  },
  {
   "cell_type": "code",
   "execution_count": 10,
   "metadata": {},
   "outputs": [],
   "source": [
    "def NBmodel_num(X_train_MNB, X_valid_MNB, y_train_genre_only, y_valid_genre_only):\n",
    "    \n",
    "    from sklearn.naive_bayes import GaussianNB\n",
    "    from sklearn.preprocessing import LabelEncoder\n",
    "    label_encoder = LabelEncoder()\n",
    "    \n",
    "    from sklearn import metrics\n",
    "    X_train_NB = abs(X_train_MNB)\n",
    "    X_valid_NB = abs(X_valid_MNB)\n",
    "    y_train_genre_only_NB = label_encoder.fit_transform(y_train_genre_only)\n",
    "    y_valid_genre_only_NB = label_encoder.transform(y_valid_genre_only)\n",
    "    gnb = GaussianNB()\n",
    "    gnb.fit(X_train_NB, y_train_genre_only_NB)\n",
    "    y_valid_pred_genre_NB = gnb.predict(X_valid_NB)\n",
    "    y_train_pred_genre_NB = gnb.predict(X_train_NB)\n",
    "    print(\"Performing NB with audio and visual based features only\")\n",
    "    print(\"---------------------------------------------------------------------------\")\n",
    "    print(\"Validation Accuracy for GNB:\",metrics.accuracy_score(y_valid_genre_only_NB, y_valid_pred_genre_NB))\n",
    "    print(\"Training Accuracy for GNB:\",metrics.accuracy_score(y_train_genre_only_NB, y_train_pred_genre_NB))  \n",
    "    \n",
    "    return"
   ]
  },
  {
   "cell_type": "code",
   "execution_count": 11,
   "metadata": {},
   "outputs": [],
   "source": [
    "def SLFNmodel_num(X_train_NN, X_valid_NN, y_train_genre_only_NN, y_valid_genre_only_NN):\n",
    "    \n",
    "    #normalize data using z-score normalization standardscaler\n",
    "    from sklearn.preprocessing import StandardScaler\n",
    "    ss = StandardScaler()\n",
    "    X_train_NN_norma = ss.fit_transform(X_train_NN)\n",
    "    X_valid_NN_norma = ss.transform(X_valid_NN)\n",
    "\n",
    "    import tensorflow.keras as keras\n",
    "    from sklearn.preprocessing import LabelEncoder\n",
    "    import tensorflow as tf\n",
    "\n",
    "    #first integer-encode our data before one hot encoding using keras\n",
    "\n",
    "    label_encoder = LabelEncoder()\n",
    "    y_train_genre_only_NN_int = label_encoder.fit_transform(y_train_genre_only_NN)\n",
    "    y_valid_genre_only_NN_int = label_encoder.transform(y_valid_genre_only_NN)\n",
    "\n",
    "    #set the random seed for numpy and tensorflow to ensure reproduceability\n",
    "\n",
    "    np.random.seed(111)\n",
    "    tf.random.set_seed(111)\n",
    "\n",
    "    #convert our class labels using a one hot encoder\n",
    "    y_train_genre_only_NN_onehot = keras.utils.to_categorical(y_train_genre_only_NN_int)\n",
    "    \n",
    "    #implement our neural network\n",
    "    import math\n",
    "    \n",
    "\n",
    "    #determine the number of nodes in the input layer, output layer and hidden layer\n",
    "    feature_count = X_train_NN_norma.shape[1]\n",
    "    label_count = y_train_genre_only_NN_onehot.shape[1]\n",
    "\n",
    "    #calculate the number of nodes in the hidden layer using the formula below\n",
    "    train_instance_count = X_train_NN_norma.shape[0]\n",
    "    alpha = 2\n",
    "    hidden_node_count = math.floor((feature_count + label_count)/2)  \n",
    "\n",
    "\n",
    "\n",
    "    #initialize model\n",
    "    model = keras.models.Sequential()\n",
    "\n",
    "    #add hidden layer\n",
    "    model.add(keras.layers.Dense(\n",
    "        units = 50,\n",
    "        input_dim = feature_count,\n",
    "        kernel_initializer='glorot_uniform',\n",
    "        bias_initializer='zeros',\n",
    "        activation='sigmoid') \n",
    "    )\n",
    "\n",
    "\n",
    "\n",
    "    # add output layer\n",
    "    model.add(\n",
    "        keras.layers.Dense(\n",
    "            units = label_count,\n",
    "            kernel_initializer='glorot_uniform',\n",
    "            bias_initializer='zeros',\n",
    "            activation='softmax')\n",
    "        )\n",
    "\n",
    "\n",
    "    # define SGD optimizer\n",
    "    sgd_optimizer = keras.optimizers.SGD(\n",
    "        lr=0.001, decay=1e-7, momentum=0.9\n",
    "    )\n",
    "\n",
    "    # compile model\n",
    "    model.compile(\n",
    "        optimizer=sgd_optimizer,\n",
    "        loss='categorical_crossentropy',\n",
    "        metrics = ['accuracy']\n",
    "    )\n",
    "\n",
    "    #train model\n",
    "    history = model.fit(\n",
    "        X_train_NN_norma, y_train_genre_only_NN_onehot,\n",
    "        batch_size=32, epochs=20,\n",
    "        verbose=0, validation_split=0.1\n",
    "    )\n",
    "\n",
    "    y_train_pred_genre_NN_int = model.predict_classes(X_train_NN_norma, verbose=0)\n",
    "    \n",
    "    print(\"Performing NN with audio and visual features only\")\n",
    "    print(\"------------------------------------------------------------------------------\")\n",
    "    #evaluate training accuracy for NN\n",
    "    y_train_pred_genre_NN_int = model.predict_classes(X_train_NN_norma, verbose=0)\n",
    "    #reconvert our integer encoded label into their respective categories\n",
    "    y_train_pred_genre_NN = label_encoder.inverse_transform(y_train_pred_genre_NN_int)\n",
    "    correct_preds = np.sum(y_train_genre_only_NN == y_train_pred_genre_NN, axis=0)\n",
    "    train_acc = correct_preds / y_train_genre_only_NN.shape[0]\n",
    "\n",
    "    print(f'Training accuracy for NN: {(train_acc * 100):.2f}')\n",
    "\n",
    "\n",
    "    #evaluate validation accuracy for NN\n",
    "    y_valid_pred_genre_NN_int = model.predict_classes(X_valid_NN_norma, verbose=0)\n",
    "    y_valid_pred_genre_NN = label_encoder.inverse_transform(y_valid_pred_genre_NN_int)\n",
    "    correct_preds = np.sum(y_valid_genre_only_NN == y_valid_pred_genre_NN, axis=0)\n",
    "    valid_acc = correct_preds / y_valid_genre_only_NN.shape[0]\n",
    "\n",
    "    print(f'Validation accuracy for NN: {(valid_acc * 100):.2f}')    \n",
    "    \n",
    "    return"
   ]
  },
  {
   "cell_type": "markdown",
   "metadata": {},
   "source": [
    "#### NB countvectorizer without audio and visual features"
   ]
  },
  {
   "cell_type": "code",
   "execution_count": 12,
   "metadata": {
    "scrolled": false
   },
   "outputs": [
    {
     "name": "stdout",
     "output_type": "stream",
     "text": [
      "Performing NB without audio and visual based features under CountVectorizer\n",
      "---------------------------------------------------------------------------\n",
      "Validation Accuracy for MNB: 0.29431438127090304\n",
      "Training Accuracy for MNB: 0.6106870229007634\n"
     ]
    }
   ],
   "source": [
    "NBmodel_with_countvectorizer(train_features[['title','tag']], valid_features[['title','tag']], y_train['genres'].values, y_valid['genres'].values)"
   ]
  },
  {
   "cell_type": "markdown",
   "metadata": {},
   "source": [
    "#### NB ttfidvectorizer without audio and visual features"
   ]
  },
  {
   "cell_type": "code",
   "execution_count": 13,
   "metadata": {},
   "outputs": [
    {
     "name": "stdout",
     "output_type": "stream",
     "text": [
      "Performing NB without audio and visual based features under TfidfVectorizer\n",
      "---------------------------------------------------------------------------\n",
      "Validation Accuracy for MNB: 0.3210702341137124\n",
      "Training Accuracy for MNB: 0.5305343511450382\n",
      "\n",
      "\n",
      "              precision    recall  f1-score   support\n",
      "\n",
      "      Action       0.00      0.00      0.00         6\n",
      "   Adventure       0.00      0.00      0.00         2\n",
      "   Animation       0.00      0.00      0.00         3\n",
      "    Children       0.00      0.00      0.00         3\n",
      "      Comedy       0.54      0.37      0.44        38\n",
      "       Crime       0.00      0.00      0.00         5\n",
      " Documentary       0.00      0.00      0.00        18\n",
      "       Drama       0.30      0.58      0.40        43\n",
      "     Fantasy       0.00      0.00      0.00        18\n",
      "   Film_Noir       0.00      0.00      0.00         4\n",
      "      Horror       0.50      0.12      0.20         8\n",
      "     Musical       0.00      0.00      0.00        10\n",
      "     Mystery       0.00      0.00      0.00        18\n",
      "     Romance       0.25      0.59      0.35        51\n",
      "      Sci_Fi       0.50      0.75      0.60        16\n",
      "    Thriller       0.34      0.46      0.39        28\n",
      "         War       0.50      0.05      0.09        21\n",
      "     Western       0.00      0.00      0.00         7\n",
      "\n",
      "    accuracy                           0.32       299\n",
      "   macro avg       0.16      0.16      0.14       299\n",
      "weighted avg       0.26      0.32      0.25       299\n",
      "\n"
     ]
    },
    {
     "name": "stderr",
     "output_type": "stream",
     "text": [
      "C:\\Users\\cyeeh\\Anaconda3\\lib\\site-packages\\sklearn\\metrics\\classification.py:1437: UndefinedMetricWarning: Precision and F-score are ill-defined and being set to 0.0 in labels with no predicted samples.\n",
      "  'precision', 'predicted', average, warn_for)\n"
     ]
    }
   ],
   "source": [
    "NBmodel_with_tfidfvectorizer(train_features[['title','tag']], valid_features[['title','tag']], y_train['genres'].values, y_valid['genres'].values)"
   ]
  },
  {
   "cell_type": "markdown",
   "metadata": {},
   "source": [
    "#### SLFN countvectoriser without audio and visual features"
   ]
  },
  {
   "cell_type": "code",
   "execution_count": 14,
   "metadata": {},
   "outputs": [
    {
     "name": "stdout",
     "output_type": "stream",
     "text": [
      "Performing NN without audio and visual based features under CountFVectorizer\n",
      "------------------------------------------------------------------------------\n",
      "Training accuracy for NN: 82.52\n",
      "Validation accuracy for NN: 31.44\n"
     ]
    }
   ],
   "source": [
    "SLFNmodel_with_countvectorizer(train_features[['title','tag']], valid_features[['title','tag']], y_train['genres'].values, y_valid['genres'].values)"
   ]
  },
  {
   "cell_type": "markdown",
   "metadata": {},
   "source": [
    "#### SLFN tfidfvectoriser without audio and visual features"
   ]
  },
  {
   "cell_type": "code",
   "execution_count": 15,
   "metadata": {},
   "outputs": [
    {
     "name": "stdout",
     "output_type": "stream",
     "text": [
      "Performing NN without audio and visual based features under TfidfVectorizer\n",
      "------------------------------------------------------------------------------\n",
      "Training accuracy for NN: 83.76\n",
      "Validation accuracy for NN: 33.78\n",
      "\n",
      "\n",
      "              precision    recall  f1-score   support\n",
      "\n",
      "      Action       0.00      0.00      0.00         6\n",
      "   Adventure       0.00      0.00      0.00         2\n",
      "   Animation       0.00      0.00      0.00         3\n",
      "    Children       0.00      0.00      0.00         3\n",
      "      Comedy       0.36      0.37      0.36        38\n",
      "       Crime       0.17      0.20      0.18         5\n",
      " Documentary       0.25      0.06      0.09        18\n",
      "       Drama       0.34      0.51      0.41        43\n",
      "     Fantasy       0.50      0.33      0.40        18\n",
      "   Film_Noir       0.00      0.00      0.00         4\n",
      "      Horror       0.43      0.38      0.40         8\n",
      "     Musical       0.00      0.00      0.00        10\n",
      "     Mystery       0.40      0.11      0.17        18\n",
      "     Romance       0.35      0.49      0.41        51\n",
      "      Sci_Fi       0.43      0.62      0.51        16\n",
      "    Thriller       0.22      0.39      0.29        28\n",
      "         War       0.40      0.29      0.33        21\n",
      "     Western       0.00      0.00      0.00         7\n",
      "\n",
      "    accuracy                           0.34       299\n",
      "   macro avg       0.21      0.21      0.20       299\n",
      "weighted avg       0.31      0.34      0.31       299\n",
      "\n"
     ]
    },
    {
     "name": "stderr",
     "output_type": "stream",
     "text": [
      "C:\\Users\\cyeeh\\Anaconda3\\lib\\site-packages\\sklearn\\metrics\\classification.py:1437: UndefinedMetricWarning: Precision and F-score are ill-defined and being set to 0.0 in labels with no predicted samples.\n",
      "  'precision', 'predicted', average, warn_for)\n"
     ]
    }
   ],
   "source": [
    "SLFNmodel_with_tfidfvectorizer(train_features[['title','tag']], valid_features[['title','tag']], y_train['genres'].values, y_valid['genres'].values)"
   ]
  },
  {
   "cell_type": "code",
   "execution_count": 16,
   "metadata": {
    "scrolled": true
   },
   "outputs": [],
   "source": [
    "#creating a subdataframe without textual features\n",
    "train_num_features = train_features.drop(['title','tag','year','movieId', 'YTId' ], axis = 1)\n",
    "valid_num_features = valid_features.drop(['title','tag','year','movieId', 'YTId' ], axis = 1)"
   ]
  },
  {
   "cell_type": "markdown",
   "metadata": {},
   "source": [
    "#### GNB with audio and visual features only"
   ]
  },
  {
   "cell_type": "code",
   "execution_count": 17,
   "metadata": {
    "scrolled": true
   },
   "outputs": [
    {
     "name": "stdout",
     "output_type": "stream",
     "text": [
      "Performing NB with audio and visual based features only\n",
      "---------------------------------------------------------------------------\n",
      "Validation Accuracy for GNB: 0.10367892976588629\n",
      "Training Accuracy for GNB: 0.11259541984732824\n"
     ]
    }
   ],
   "source": [
    "NBmodel_num(train_num_features, valid_num_features, y_train['genres'].values, y_valid['genres'].values)"
   ]
  },
  {
   "cell_type": "markdown",
   "metadata": {},
   "source": [
    "#### SLFN with audio and visual features only"
   ]
  },
  {
   "cell_type": "code",
   "execution_count": 18,
   "metadata": {},
   "outputs": [
    {
     "name": "stdout",
     "output_type": "stream",
     "text": [
      "Performing NN with audio and visual features only\n",
      "------------------------------------------------------------------------------\n",
      "Training accuracy for NN: 21.77\n",
      "Validation accuracy for NN: 22.07\n"
     ]
    }
   ],
   "source": [
    "SLFNmodel_num(train_num_features, valid_num_features, y_train['genres'].values, y_valid['genres'].values)"
   ]
  }
 ],
 "metadata": {
  "kernelspec": {
   "display_name": "Python 3",
   "language": "python",
   "name": "python3"
  },
  "language_info": {
   "codemirror_mode": {
    "name": "ipython",
    "version": 3
   },
   "file_extension": ".py",
   "mimetype": "text/x-python",
   "name": "python",
   "nbconvert_exporter": "python",
   "pygments_lexer": "ipython3",
   "version": "3.7.4"
  }
 },
 "nbformat": 4,
 "nbformat_minor": 2
}
